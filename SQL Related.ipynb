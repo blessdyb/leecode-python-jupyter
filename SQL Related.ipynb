{
 "cells": [
  {
   "cell_type": "markdown",
   "metadata": {},
   "source": [
    "## Delete duplicated emails\n",
    "```\n",
    "DELETE p1 FROM Person p1, Person p2 WHERE p1.Email = p2.Email AND p1.Id > p2.Id\n",
    "```"
   ]
  },
  {
   "cell_type": "markdown",
   "metadata": {},
   "source": [
    "## Select duplicated emails\n",
    "```\n",
    "SELECT p1.Email FROM Person p1, Person p2 WHERE p1.Email = p2.Email AND p1.Id != p2.Id\n",
    "```"
   ]
  },
  {
   "cell_type": "markdown",
   "metadata": {},
   "source": [
    "## Rising Temperature\n",
    "\n",
    "    SELECT w0.Id FROM Weather w0, Weather w1 WHERE DATEDIFF(w0.RecordDate, w1.RecordDate) = 1 AND w0.Temperature > w1.Temperature"
   ]
  },
  {
   "cell_type": "markdown",
   "metadata": {},
   "source": [
    "## Select Second Highest Salary\n",
    "    \n",
    "    SELECT MAX(Salary) AS SecondHighestSalary  FROM Employee WHERE Salary  NOT IN (SELECT MAX(Salary) FROM Employee)"
   ]
  },
  {
   "cell_type": "markdown",
   "metadata": {},
   "source": [
    "## Not Boring Movies\n",
    "\n",
    "    SELECT * FROM cinema WHERE MOD(id, 2) = 1 AND description != 'boring' ORDER BY rating DESC"
   ]
  },
  {
   "cell_type": "markdown",
   "metadata": {},
   "source": [
    "## Swap Salary\n",
    "\n",
    "    UPDATE salary SET sex = CASE WHEN sex = 'm' THEN 'f' ELSE 'm' END;"
   ]
  },
  {
   "cell_type": "markdown",
   "metadata": {},
   "source": [
    "## Employees Earning More Than Managers\n",
    "\n",
    "    SELECT e1.Name as Employee FROM Employee e1 JOIN Employee e2 ON e1.ManagerId = e2.Id WHERE e1.Salary > e2.Salary"
   ]
  },
  {
   "cell_type": "markdown",
   "metadata": {},
   "source": [
    "## Classes More Than 5 Students\n",
    "    SELECT class FROM (SELECT class, COUNT(DISTINCT student) as students FROM courses GROUP BY class) AS temp_table WHERE students >= 5"
   ]
  },
  {
   "cell_type": "markdown",
   "metadata": {},
   "source": [
    "## Reformat Department Table\n",
    "    SELECT id,\n",
    "        SUM(IF( month = 'Jan', revenue, null )) AS Jan_Revenue,\n",
    "        SUM(IF( month = 'Feb', revenue, null )) AS Feb_Revenue,\n",
    "        SUM(IF( month = 'Mar', revenue, null )) AS Mar_Revenue,\n",
    "        SUM(IF( month = 'Apr', revenue, null )) AS Apr_Revenue,\n",
    "        SUM(IF( month = 'May', revenue, null )) AS May_Revenue,\n",
    "        SUM(IF( month = 'Jun', revenue, null )) AS Jun_Revenue,\n",
    "        SUM(IF( month = 'Jul', revenue, null )) AS Jul_Revenue,\n",
    "        SUM(IF( month = 'Aug', revenue, null )) AS Aug_Revenue,\n",
    "        SUM(IF( month = 'Sep', revenue, null )) AS Sep_Revenue,\n",
    "        SUM(IF( month = 'Oct', revenue, null )) AS Oct_Revenue,\n",
    "        SUM(IF( month = 'Nov', revenue, null )) AS Nov_Revenue,\n",
    "        SUM(IF( month = 'Dec', revenue, null )) AS Dec_Revenue\n",
    "    FROM Department\n",
    "    GROUP BY id\n",
    "    "
   ]
  },
  {
   "cell_type": "code",
   "execution_count": null,
   "metadata": {},
   "outputs": [],
   "source": []
  }
 ],
 "metadata": {
  "kernelspec": {
   "display_name": "Python 3",
   "language": "python",
   "name": "python3"
  },
  "language_info": {
   "codemirror_mode": {
    "name": "ipython",
    "version": 3
   },
   "file_extension": ".py",
   "mimetype": "text/x-python",
   "name": "python",
   "nbconvert_exporter": "python",
   "pygments_lexer": "ipython3",
   "version": "3.7.4"
  }
 },
 "nbformat": 4,
 "nbformat_minor": 2
}
