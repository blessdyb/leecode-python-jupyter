{
 "cells": [
  {
   "cell_type": "code",
   "execution_count": 4,
   "metadata": {},
   "outputs": [],
   "source": [
    "from typing import List\n",
    "class Solution:\n",
    "    def singleNumberBitManipulation(self, nums: List[int]) -> int:\n",
    "        a = 0\n",
    "        for i in nums:\n",
    "            a = a ^ i\n",
    "        return a\n",
    "    def singleNumberMath(self, nums: List[int]) -> int:\n",
    "        return 2 * sum(set(nums)) - sum(nums)\n",
    "    \n",
    "    def numberOf1Bits(self, n):\n",
    "        bits = 0\n",
    "        mask = 1\n",
    "        i = 0\n",
    "        while i < 32:\n",
    "            if n & mask != 0:\n",
    "                bits += 1\n",
    "            i += 1\n",
    "            mask <<= 1\n",
    "        return bits\n",
    "    \n",
    "    def hammingDistanceXORString(self, x: int, y: int) -> int:\n",
    "        return len([i for i in str(bin(x ^ y)) if i == '1'])\n",
    "    \n",
    "    "
   ]
  },
  {
   "cell_type": "code",
   "execution_count": null,
   "metadata": {},
   "outputs": [],
   "source": []
  }
 ],
 "metadata": {
  "kernelspec": {
   "display_name": "Python 3",
   "language": "python",
   "name": "python3"
  },
  "language_info": {
   "codemirror_mode": {
    "name": "ipython",
    "version": 3
   },
   "file_extension": ".py",
   "mimetype": "text/x-python",
   "name": "python",
   "nbconvert_exporter": "python",
   "pygments_lexer": "ipython3",
   "version": "3.7.4"
  }
 },
 "nbformat": 4,
 "nbformat_minor": 2
}
