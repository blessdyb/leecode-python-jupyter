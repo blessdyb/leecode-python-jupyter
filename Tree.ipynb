{
 "cells": [
  {
   "cell_type": "code",
   "execution_count": 4,
   "metadata": {},
   "outputs": [],
   "source": [
    "from typing import List\n",
    "class Solution:\n",
    "    def maxDepthBinaryTreeDFSRecursive(self, root: List) -> int:\n",
    "        ## Explicitly write the bool expression will speed up the algorithm\n",
    "        if root == None:\n",
    "            return 0\n",
    "        return 1 + max(self.maxDepthBinaryTreeDFSRecursive(root.left), self.maxDepthBinaryTreeDFSRecursive(root.right))"
   ]
  },
  {
   "cell_type": "code",
   "execution_count": null,
   "metadata": {},
   "outputs": [],
   "source": []
  }
 ],
 "metadata": {
  "kernelspec": {
   "display_name": "Python 3",
   "language": "python",
   "name": "python3"
  },
  "language_info": {
   "codemirror_mode": {
    "name": "ipython",
    "version": 3
   },
   "file_extension": ".py",
   "mimetype": "text/x-python",
   "name": "python",
   "nbconvert_exporter": "python",
   "pygments_lexer": "ipython3",
   "version": "3.7.4"
  }
 },
 "nbformat": 4,
 "nbformat_minor": 2
}
