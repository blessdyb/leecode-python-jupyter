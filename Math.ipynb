{
 "cells": [
  {
   "cell_type": "code",
   "execution_count": 3,
   "metadata": {},
   "outputs": [],
   "source": [
    "from typing import List\n",
    "class Solution:\n",
    "    # Caution about the edge case\n",
    "    def PlusOne(self, digits: List) -> List:\n",
    "        carry = 1\n",
    "        pointer = len(digits) - 1\n",
    "        while pointer >= 0:\n",
    "            digits[pointer] += carry\n",
    "            if digits[pointer] < 10:\n",
    "                carry = 0\n",
    "                break\n",
    "        ## Edge case\n",
    "        if  carry == 1:\n",
    "            digits = [1] + digits\n",
    "        return digits\n",
    "    # Caution about the type casting and edge case\n",
    "    def AddBinary(self, a: str, b: str) -> str:\n",
    "        length_a = len(a)\n",
    "        length_b = len(b)\n",
    "        short = b if length_a > length_b else a\n",
    "        long = b if short == a else a\n",
    "        pointer_short = len(short) - 1\n",
    "        pointer_long = len(long) - 1\n",
    "        carry = 0\n",
    "        result = ''\n",
    "        while pointer_long >= 0:\n",
    "            value = carry + int(long[pointer_long])\n",
    "            if pointer_short >= 0:\n",
    "                value += int(short[pointer_short])\n",
    "            if value > 1:\n",
    "                value -= 2\n",
    "                carry = 1\n",
    "            result = str(value) + result\n",
    "            pointer_long -= 1\n",
    "            pointer_short -= 1\n",
    "        ## Edge case\n",
    "        if carry > 0:\n",
    "            result = str(carry) + result\n",
    "        return result\n",
    "    "
   ]
  },
  {
   "cell_type": "code",
   "execution_count": null,
   "metadata": {},
   "outputs": [],
   "source": []
  }
 ],
 "metadata": {
  "kernelspec": {
   "display_name": "Python 3",
   "language": "python",
   "name": "python3"
  },
  "language_info": {
   "codemirror_mode": {
    "name": "ipython",
    "version": 3
   },
   "file_extension": ".py",
   "mimetype": "text/x-python",
   "name": "python",
   "nbconvert_exporter": "python",
   "pygments_lexer": "ipython3",
   "version": "3.7.4"
  }
 },
 "nbformat": 4,
 "nbformat_minor": 2
}
