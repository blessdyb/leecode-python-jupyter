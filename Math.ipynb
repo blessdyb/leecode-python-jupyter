{
 "cells": [
  {
   "cell_type": "code",
   "execution_count": 3,
   "metadata": {},
   "outputs": [],
   "source": [
    "from typing import List\n",
    "class Solution:\n",
    "    def PlusOne(self, digits: List) -> List:\n",
    "        carry = 1\n",
    "        pointer = len(digits) - 1\n",
    "        while pointer >= 0:\n",
    "            digits[pointer] += carry\n",
    "            if digits[pointer] < 10:\n",
    "                carry = 0\n",
    "                break\n",
    "        if  carry == 1:\n",
    "            digits = [1] + digits\n",
    "        return digits"
   ]
  },
  {
   "cell_type": "code",
   "execution_count": null,
   "metadata": {},
   "outputs": [],
   "source": []
  }
 ],
 "metadata": {
  "kernelspec": {
   "display_name": "Python 3",
   "language": "python",
   "name": "python3"
  },
  "language_info": {
   "codemirror_mode": {
    "name": "ipython",
    "version": 3
   },
   "file_extension": ".py",
   "mimetype": "text/x-python",
   "name": "python",
   "nbconvert_exporter": "python",
   "pygments_lexer": "ipython3",
   "version": "3.7.4"
  }
 },
 "nbformat": 4,
 "nbformat_minor": 2
}
