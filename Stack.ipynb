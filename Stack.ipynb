{
 "cells": [
  {
   "cell_type": "code",
   "execution_count": 1,
   "metadata": {},
   "outputs": [],
   "source": [
    "class Solution:\n",
    "    def isValidParentheses(self, s: str) -> bool:\n",
    "        tempStack = []\n",
    "        parentheses = {\n",
    "            \"(\": \")\",\n",
    "            \"{\": \"}\",\n",
    "            \"[\": \"]\"\n",
    "        }\n",
    "        left = parentheses.keys()\n",
    "        for item in s:\n",
    "            if item in left:\n",
    "                tempStack.append(item)\n",
    "            elif len(tempStack) == 0 or item != parentheses.get(tempStack.pop()):\n",
    "                return False\n",
    "        return len(tempStack) == 0"
   ]
  },
  {
   "cell_type": "code",
   "execution_count": null,
   "metadata": {},
   "outputs": [],
   "source": []
  }
 ],
 "metadata": {
  "kernelspec": {
   "display_name": "Python 3",
   "language": "python",
   "name": "python3"
  },
  "language_info": {
   "codemirror_mode": {
    "name": "ipython",
    "version": 3
   },
   "file_extension": ".py",
   "mimetype": "text/x-python",
   "name": "python",
   "nbconvert_exporter": "python",
   "pygments_lexer": "ipython3",
   "version": "3.7.4"
  }
 },
 "nbformat": 4,
 "nbformat_minor": 2
}
