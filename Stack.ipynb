{
 "cells": [
  {
   "cell_type": "code",
   "execution_count": 2,
   "metadata": {},
   "outputs": [],
   "source": [
    "class Solution:\n",
    "    def isValidParentheses(self, s: str) -> bool:\n",
    "        tempStack = []\n",
    "        parentheses = {\n",
    "            \"(\": \")\",\n",
    "            \"{\": \"}\",\n",
    "            \"[\": \"]\"\n",
    "        }\n",
    "        left = parentheses.keys()\n",
    "        for item in s:\n",
    "            if item in left:\n",
    "                tempStack.append(item)\n",
    "            elif len(tempStack) == 0 or item != parentheses.get(tempStack.pop()):\n",
    "                return False\n",
    "        return len(tempStack) == 0\n",
    "    \n",
    "    def removeAllAdjacentDuplicatesInArrayStackSolution(self, S: str) -> str:\n",
    "        stack = [S[0]]\n",
    "        str_len = len(S)\n",
    "        pointer = 1\n",
    "        while pointer < str_len:\n",
    "            if len(stack) > 0 and stack[-1] == S[pointer]:\n",
    "                stack.pop()\n",
    "            else:\n",
    "                stack.append(S[pointer])\n",
    "            pointer += 1\n",
    "        return ''.join(stack)\n",
    "    # Note python string is immutable\n",
    "    def removeAllAdjacentDuplicatesInArrayPointerSolution(self, S: str) -> str:\n",
    "        str_len = len(S)\n",
    "        temp = list(S)\n",
    "        i = 0\n",
    "        j = 1\n",
    "        while j < str_len:\n",
    "            if i >=0 and temp[i] == temp[j]:\n",
    "                i -= 1\n",
    "                j += 1\n",
    "            else:\n",
    "                i += 1\n",
    "                temp[i] = temp[j]\n",
    "                j += 1\n",
    "        return S[:i + 1]"
   ]
  },
  {
   "cell_type": "code",
   "execution_count": null,
   "metadata": {},
   "outputs": [],
   "source": []
  }
 ],
 "metadata": {
  "kernelspec": {
   "display_name": "Python 3",
   "language": "python",
   "name": "python3"
  },
  "language_info": {
   "codemirror_mode": {
    "name": "ipython",
    "version": 3
   },
   "file_extension": ".py",
   "mimetype": "text/x-python",
   "name": "python",
   "nbconvert_exporter": "python",
   "pygments_lexer": "ipython3",
   "version": "3.7.4"
  }
 },
 "nbformat": 4,
 "nbformat_minor": 2
}
