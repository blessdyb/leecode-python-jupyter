{
 "cells": [
  {
   "cell_type": "code",
   "execution_count": 3,
   "metadata": {},
   "outputs": [],
   "source": [
    "from typing import List\n",
    "class Solution:\n",
    "    # Use a dict to map the positions between two different list, also the dict can store the appearance times\n",
    "    def relativeSortArray(self, arr1: List[int], arr2: List[int]) -> List[int]:\n",
    "        origin_hash = {}\n",
    "        result = []\n",
    "        missed_items = [i for i in arr1 if i not in arr2]\n",
    "        missed_items.sort()\n",
    "        for i in arr1:\n",
    "            if not i in origin_hash:\n",
    "                origin_hash[i] = 1\n",
    "            else:\n",
    "                origin_hash[i] += 1\n",
    "        for i in arr2:\n",
    "            result.extend([i] * origin_hash[i])\n",
    "        return result + missed_items\n",
    "    # List value copy instead of reference copy\n",
    "    def heightChecker(self, heights: List[int]) -> int:\n",
    "        sorted_height = heights.copy()\n",
    "        sorted_height.sort()\n",
    "        count = 0\n",
    "        for i, v in enumerate(sorted_height):\n",
    "            if v != heights[i]:\n",
    "                count += 1\n",
    "        return count"
   ]
  },
  {
   "cell_type": "code",
   "execution_count": null,
   "metadata": {},
   "outputs": [],
   "source": []
  }
 ],
 "metadata": {
  "kernelspec": {
   "display_name": "Python 3",
   "language": "python",
   "name": "python3"
  },
  "language_info": {
   "codemirror_mode": {
    "name": "ipython",
    "version": 3
   },
   "file_extension": ".py",
   "mimetype": "text/x-python",
   "name": "python",
   "nbconvert_exporter": "python",
   "pygments_lexer": "ipython3",
   "version": "3.7.4"
  }
 },
 "nbformat": 4,
 "nbformat_minor": 2
}
