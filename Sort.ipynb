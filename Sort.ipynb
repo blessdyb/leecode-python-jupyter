{
 "cells": [
  {
   "cell_type": "code",
   "execution_count": 2,
   "metadata": {},
   "outputs": [],
   "source": [
    "from typing import List\n",
    "class Solution:\n",
    "    def relativeSortArray(self, arr1: List[int], arr2: List[int]) -> List[int]:\n",
    "        origin_hash = {}\n",
    "        result = []\n",
    "        missed_items = [i for i in arr1 if i not in arr2]\n",
    "        missed_items.sort()\n",
    "        for i in arr1:\n",
    "            if not i in origin_hash:\n",
    "                origin_hash[i] = 1\n",
    "            else:\n",
    "                origin_hash[i] += 1\n",
    "        for i in arr2:\n",
    "            result.extend([i] * origin_hash[i])\n",
    "        return result + missed_items"
   ]
  },
  {
   "cell_type": "code",
   "execution_count": null,
   "metadata": {},
   "outputs": [],
   "source": []
  }
 ],
 "metadata": {
  "kernelspec": {
   "display_name": "Python 3",
   "language": "python",
   "name": "python3"
  },
  "language_info": {
   "codemirror_mode": {
    "name": "ipython",
    "version": 3
   },
   "file_extension": ".py",
   "mimetype": "text/x-python",
   "name": "python",
   "nbconvert_exporter": "python",
   "pygments_lexer": "ipython3",
   "version": "3.7.4"
  }
 },
 "nbformat": 4,
 "nbformat_minor": 2
}
