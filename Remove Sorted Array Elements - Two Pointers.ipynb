{
 "cells": [
  {
   "cell_type": "code",
   "execution_count": 2,
   "metadata": {},
   "outputs": [],
   "source": [
    "from typing import List\n",
    "class Solution:\n",
    "    # Modifying the given array in-place with O(1) extra space\n",
    "    def removeElement(self, nums: List[int], val: int) -> int:\n",
    "        N = len(nums)\n",
    "        if N < 1:\n",
    "            return 0\n",
    "        i = 0\n",
    "        j = 0\n",
    "        while j < N:\n",
    "            if nums[j] == val:\n",
    "                j += 1\n",
    "            else:\n",
    "                nums[i] = nums[j]\n",
    "                i += 1\n",
    "                j += 1\n",
    "        return i\n",
    "    # Two pointer to avoid extra O(n) space\n",
    "    def removeDuplicates(self, nums: List[int]) -> int:\n",
    "        N = len(nums)\n",
    "        if N < 1:\n",
    "            return 0\n",
    "        i = 0\n",
    "        j = 1\n",
    "        while j < N and i < N - 1:\n",
    "            if nums[i] != nums[j]:\n",
    "                i += 1\n",
    "                nums[i] = nums[j]\n",
    "            j += 1\n",
    "        return i + 1\n",
    "    def removeDuplicatesAtMostTwice(self, nums: List[int]) -> int:\n",
    "        pass"
   ]
  },
  {
   "cell_type": "code",
   "execution_count": null,
   "metadata": {},
   "outputs": [],
   "source": []
  }
 ],
 "metadata": {
  "kernelspec": {
   "display_name": "Python 3",
   "language": "python",
   "name": "python3"
  },
  "language_info": {
   "codemirror_mode": {
    "name": "ipython",
    "version": 3
   },
   "file_extension": ".py",
   "mimetype": "text/x-python",
   "name": "python",
   "nbconvert_exporter": "python",
   "pygments_lexer": "ipython3",
   "version": "3.7.3"
  }
 },
 "nbformat": 4,
 "nbformat_minor": 2
}
