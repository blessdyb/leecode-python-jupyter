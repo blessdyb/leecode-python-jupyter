{
 "cells": [
  {
   "cell_type": "code",
   "execution_count": 2,
   "metadata": {},
   "outputs": [],
   "source": [
    "from typing import List\n",
    "class ListNode(object):\n",
    "    def __init__(self, x):\n",
    "        self.val = x\n",
    "        self.next = None\n",
    "class Solution:\n",
    "    # Modifying the given array in-place with O(1) extra space\n",
    "    def removeElement(self, nums: List[int], val: int) -> int:\n",
    "        N = len(nums)\n",
    "        if N < 1:\n",
    "            return 0\n",
    "        i = 0\n",
    "        j = 0\n",
    "        while j < N:\n",
    "            if nums[j] == val:\n",
    "                j += 1\n",
    "            else:\n",
    "                nums[i] = nums[j]\n",
    "                i += 1\n",
    "                j += 1\n",
    "        return i\n",
    "    # Two pointer to avoid extra O(n) space\n",
    "    def removeDuplicates(self, nums: List[int]) -> int:\n",
    "        N = len(nums)\n",
    "        if N < 1:\n",
    "            return 0\n",
    "        i = 0\n",
    "        j = 1\n",
    "        while j < N and i < N - 1:\n",
    "            if nums[i] != nums[j]:\n",
    "                i += 1\n",
    "                nums[i] = nums[j]\n",
    "            j += 1\n",
    "        return i + 1\n",
    "    \n",
    "    def mergeTwoSortedLists(self, l1, l2):\n",
    "        result = ListNode(0)\n",
    "        pointer = result\n",
    "        while l1 and l2:\n",
    "            if l1.val <= l2.val:\n",
    "                pointer.next = ListNode(l1.val)\n",
    "                pointer = pointer.next\n",
    "                l1 = l1.next\n",
    "            else:\n",
    "                pointer.next = ListNode(l2.val)\n",
    "                pointer = pointer.next\n",
    "                l2 = l2.next\n",
    "        if l1:\n",
    "            pointer.next = l1.next\n",
    "        if l2:\n",
    "            pointer.next = l2.next\n",
    "        return result.next\n",
    "        \n",
    "    def removeDuplicatesAtMostTwice(self, nums: List[int]) -> int:\n",
    "        pass"
   ]
  },
  {
   "cell_type": "code",
   "execution_count": null,
   "metadata": {},
   "outputs": [],
   "source": []
  }
 ],
 "metadata": {
  "kernelspec": {
   "display_name": "Python 3",
   "language": "python",
   "name": "python3"
  },
  "language_info": {
   "codemirror_mode": {
    "name": "ipython",
    "version": 3
   },
   "file_extension": ".py",
   "mimetype": "text/x-python",
   "name": "python",
   "nbconvert_exporter": "python",
   "pygments_lexer": "ipython3",
   "version": "3.7.4"
  }
 },
 "nbformat": 4,
 "nbformat_minor": 2
}
