{
 "cells": [
  {
   "cell_type": "code",
   "execution_count": 3,
   "metadata": {},
   "outputs": [],
   "source": [
    "class ListNode:\n",
    "    def __init__(self, x):\n",
    "        self.val = x\n",
    "        self.next = None\n",
    "\n",
    "class Solution:\n",
    "    def removeDuplicatesFromSortedList(self, head: ListNode) -> ListNode:\n",
    "        pointer = head\n",
    "        while pointer and pointer.next:\n",
    "            if pointer.val == pointer.next.val:\n",
    "                pointer.next = pointer.next.next\n",
    "            else:\n",
    "                pointer = pointer.next\n",
    "        return head\n",
    "    # Edge case like head is None or head value needs to be removed\n",
    "    def removeLinkedListElements(self, head: ListNode, val: int) -> ListNode:\n",
    "        pointer = head\n",
    "        while pointer and pointer.next:\n",
    "            if pointer.val == val:\n",
    "                pointer.next = pointer.next.next\n",
    "            else:\n",
    "                pointer = pointer.next\n",
    "        if head and head.val == val:\n",
    "            head = head.next\n",
    "        return head\n",
    "\n",
    "    #  Basic straight-forward solution is to set the value to this given node's next one, point to next one's next and delete next one\n",
    "    def deleteNodeInALinkedList(self, node):\n",
    "        node.val = node.next.val\n",
    "        node.next = node.next.next"
   ]
  },
  {
   "cell_type": "code",
   "execution_count": null,
   "metadata": {},
   "outputs": [],
   "source": []
  }
 ],
 "metadata": {
  "kernelspec": {
   "display_name": "Python 3",
   "language": "python",
   "name": "python3"
  },
  "language_info": {
   "codemirror_mode": {
    "name": "ipython",
    "version": 3
   },
   "file_extension": ".py",
   "mimetype": "text/x-python",
   "name": "python",
   "nbconvert_exporter": "python",
   "pygments_lexer": "ipython3",
   "version": "3.7.4"
  }
 },
 "nbformat": 4,
 "nbformat_minor": 2
}
