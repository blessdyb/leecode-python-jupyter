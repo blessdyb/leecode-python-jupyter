{
 "cells": [
  {
   "cell_type": "code",
   "execution_count": 5,
   "metadata": {},
   "outputs": [],
   "source": [
    "from typing import List\n",
    "class ListNode:\n",
    "    def __init__(self, x):\n",
    "        self.val = x\n",
    "        self.next = None\n",
    "\n",
    "class Solution:\n",
    "    def removeDuplicatesFromSortedList(self, head: ListNode) -> ListNode:\n",
    "        pointer = head\n",
    "        while pointer and pointer.next:\n",
    "            if pointer.val == pointer.next.val:\n",
    "                pointer.next = pointer.next.next\n",
    "            else:\n",
    "                pointer = pointer.next\n",
    "        return head\n",
    "    # Edge case like head is None or head value needs to be removed\n",
    "    def removeLinkedListElements(self, head: ListNode, val: int) -> ListNode:\n",
    "        pointer = head\n",
    "        while pointer and pointer.next:\n",
    "            if pointer.val == val:\n",
    "                pointer.next = pointer.next.next\n",
    "            else:\n",
    "                pointer = pointer.next\n",
    "        if head and head.val == val:\n",
    "            head = head.next\n",
    "        return head\n",
    "\n",
    "    #  Basic straight-forward solution is to set the value to this given node's next one, point to next one's next and delete next one\n",
    "    def deleteNodeInALinkedList(self, node) -> None:\n",
    "        node.val = node.next.val\n",
    "        node.next = node.next.next\n",
    "        \n",
    "    def duplicateZerosPointerSolution(self, arr: List[int]) -> None:\n",
    "        zeros = len([i for i in arr if i == 0])\n",
    "        if zeros > 0:\n",
    "            arr_len = len(arr)\n",
    "            p = arr_len - 1\n",
    "            q = p + zeros\n",
    "            while p >= 0 and q >= 0:\n",
    "                if q < arr_len:\n",
    "                    arr[q] = arr[p]\n",
    "                if arr[p] == 0:\n",
    "                    if q - 1 < arr_len:\n",
    "                        arr[q - 1] = 0\n",
    "                    q -= 1\n",
    "                q -= 1\n",
    "                p -= 1\n",
    "    def duplicateZerosListInsertSolution(self, arr: List[int]) -> None:\n",
    "        arr_len = len(arr)\n",
    "        index = 0\n",
    "        while index < arr_len:\n",
    "            if arr[index] == 0:\n",
    "                arr.insert(index + 1, 0)\n",
    "                arr.pop()\n",
    "                index += 2\n",
    "            else:\n",
    "                index += 1"
   ]
  },
  {
   "cell_type": "code",
   "execution_count": null,
   "metadata": {},
   "outputs": [],
   "source": []
  }
 ],
 "metadata": {
  "kernelspec": {
   "display_name": "Python 3",
   "language": "python",
   "name": "python3"
  },
  "language_info": {
   "codemirror_mode": {
    "name": "ipython",
    "version": 3
   },
   "file_extension": ".py",
   "mimetype": "text/x-python",
   "name": "python",
   "nbconvert_exporter": "python",
   "pygments_lexer": "ipython3",
   "version": "3.7.4"
  }
 },
 "nbformat": 4,
 "nbformat_minor": 2
}
