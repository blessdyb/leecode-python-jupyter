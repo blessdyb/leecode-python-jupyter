{
 "cells": [
  {
   "cell_type": "code",
   "execution_count": 1,
   "metadata": {},
   "outputs": [],
   "source": [
    "from typing import List"
   ]
  },
  {
   "cell_type": "code",
   "execution_count": null,
   "metadata": {},
   "outputs": [],
   "source": [
    "class StockSellingSolutions:\n",
    "    def maxProfitBruteForce(self, prices: List[int]) -> int:\n",
    "        maxNumber = 0\n",
    "        for i in range(len(prices)):\n",
    "            j = i\n",
    "            while (j < len(prices)):\n",
    "                if prices[j] >= prices[i]:\n",
    "                    maxNumber = max(maxNumber, prices[j] - prices[i])\n",
    "        return maxNumber"
   ]
  }
 ],
 "metadata": {
  "kernelspec": {
   "display_name": "Python 3",
   "language": "python",
   "name": "python3"
  },
  "language_info": {
   "codemirror_mode": {
    "name": "ipython",
    "version": 3
   },
   "file_extension": ".py",
   "mimetype": "text/x-python",
   "name": "python",
   "nbconvert_exporter": "python",
   "pygments_lexer": "ipython3",
   "version": "3.7.3"
  }
 },
 "nbformat": 4,
 "nbformat_minor": 2
}
