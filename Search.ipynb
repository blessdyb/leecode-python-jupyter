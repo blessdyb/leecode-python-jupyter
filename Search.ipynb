{
 "cells": [
  {
   "cell_type": "code",
   "execution_count": 1,
   "metadata": {},
   "outputs": [],
   "source": [
    "class Solution:\n",
    "    def bruteForceFindBadVersion(self, n):\n",
    "        i = 1\n",
    "        while i < n:\n",
    "            if isBadVersion(i):\n",
    "                if i == 1:\n",
    "                    return 1\n",
    "                elif not isBadVersion(i - 1):\n",
    "                    return i\n",
    "            i += 1\n",
    "    # Check the middle one calculation\n",
    "    def binarySearchFindBadVersion(self, n):\n",
    "        left = 1\n",
    "        right = n\n",
    "        while left  < right:\n",
    "            mid = left + (right -left ) // 2\n",
    "            if isBadVersion(mid):\n",
    "                right = mid\n",
    "            else:\n",
    "                left = mid  + 1\n",
    "        return left\n",
    "    # Take care of the edge case end with space\n",
    "    def findTheLengthOfLastWorld(self, s: str) -> int:\n",
    "        length = 0\n",
    "        word = ''\n",
    "        reset = False\n",
    "        for i in s:\n",
    "            if i == ' ':\n",
    "                reset = True\n",
    "            else:\n",
    "                if reset:\n",
    "                    length = 0\n",
    "                    word = ''\n",
    "                word = word + i\n",
    "                length = length + 1\n",
    "        return length"
   ]
  },
  {
   "cell_type": "code",
   "execution_count": null,
   "metadata": {},
   "outputs": [],
   "source": []
  }
 ],
 "metadata": {
  "kernelspec": {
   "display_name": "Python 3",
   "language": "python",
   "name": "python3"
  },
  "language_info": {
   "codemirror_mode": {
    "name": "ipython",
    "version": 3
   },
   "file_extension": ".py",
   "mimetype": "text/x-python",
   "name": "python",
   "nbconvert_exporter": "python",
   "pygments_lexer": "ipython3",
   "version": "3.7.4"
  }
 },
 "nbformat": 4,
 "nbformat_minor": 2
}
